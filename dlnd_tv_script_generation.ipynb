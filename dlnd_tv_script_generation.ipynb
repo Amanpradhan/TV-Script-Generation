{
 "cells": [
  {
   "cell_type": "markdown",
   "metadata": {},
   "source": [
    "# TV Script Generation\n",
    "In this project, you'll generate your own [Simpsons](https://en.wikipedia.org/wiki/The_Simpsons) TV scripts using RNNs.  You'll be using part of the [Simpsons dataset](https://www.kaggle.com/wcukierski/the-simpsons-by-the-data) of scripts from 27 seasons.  The Neural Network you'll build will generate a new TV script for a scene at [Moe's Tavern](https://simpsonswiki.com/wiki/Moe's_Tavern).\n",
    "## Get the Data\n",
    "The data is already provided for you.  You'll be using a subset of the original dataset.  It consists of only the scenes in Moe's Tavern.  This doesn't include other versions of the tavern, like \"Moe's Cavern\", \"Flaming Moe's\", \"Uncle Moe's Family Feed-Bag\", etc.."
   ]
  },
  {
   "cell_type": "code",
   "execution_count": 1,
   "metadata": {
    "collapsed": true
   },
   "outputs": [],
   "source": [
    "\"\"\"\n",
    "DON'T MODIFY ANYTHING IN THIS CELL\n",
    "\"\"\"\n",
    "import helper\n",
    "\n",
    "data_dir = './data/simpsons/moes_tavern_lines.txt'\n",
    "text = helper.load_data(data_dir)\n",
    "# Ignore notice, since we don't use it for analysing the data\n",
    "text = text[81:]"
   ]
  },
  {
   "cell_type": "markdown",
   "metadata": {},
   "source": [
    "## Explore the Data\n",
    "Play around with `view_sentence_range` to view different parts of the data."
   ]
  },
  {
   "cell_type": "code",
   "execution_count": 2,
   "metadata": {},
   "outputs": [
    {
     "name": "stdout",
     "output_type": "stream",
     "text": [
      "Dataset Stats\n",
      "Roughly the number of unique words: 11492\n",
      "Number of scenes: 262\n",
      "Average number of sentences in each scene: 15.248091603053435\n",
      "Number of lines: 4257\n",
      "Average number of words in each line: 11.50434578341555\n",
      "\n",
      "The sentences 0 to 10:\n",
      "Moe_Szyslak: (INTO PHONE) Moe's Tavern. Where the elite meet to drink.\n",
      "Bart_Simpson: Eh, yeah, hello, is Mike there? Last name, Rotch.\n",
      "Moe_Szyslak: (INTO PHONE) Hold on, I'll check. (TO BARFLIES) Mike Rotch. Mike Rotch. Hey, has anybody seen Mike Rotch, lately?\n",
      "Moe_Szyslak: (INTO PHONE) Listen you little puke. One of these days I'm gonna catch you, and I'm gonna carve my name on your back with an ice pick.\n",
      "Moe_Szyslak: What's the matter Homer? You're not your normal effervescent self.\n",
      "Homer_Simpson: I got my problems, Moe. Give me another one.\n",
      "Moe_Szyslak: Homer, hey, you should not drink to forget your problems.\n",
      "Barney_Gumble: Yeah, you should only drink to enhance your social skills.\n",
      "\n",
      "\n"
     ]
    }
   ],
   "source": [
    "view_sentence_range = (0, 10)\n",
    "\n",
    "\"\"\"\n",
    "DON'T MODIFY ANYTHING IN THIS CELL\n",
    "\"\"\"\n",
    "import numpy as np\n",
    "\n",
    "print('Dataset Stats')\n",
    "print('Roughly the number of unique words: {}'.format(len({word: None for word in text.split()})))\n",
    "scenes = text.split('\\n\\n')\n",
    "print('Number of scenes: {}'.format(len(scenes)))\n",
    "sentence_count_scene = [scene.count('\\n') for scene in scenes]\n",
    "print('Average number of sentences in each scene: {}'.format(np.average(sentence_count_scene)))\n",
    "\n",
    "sentences = [sentence for scene in scenes for sentence in scene.split('\\n')]\n",
    "print('Number of lines: {}'.format(len(sentences)))\n",
    "word_count_sentence = [len(sentence.split()) for sentence in sentences]\n",
    "print('Average number of words in each line: {}'.format(np.average(word_count_sentence)))\n",
    "\n",
    "print()\n",
    "print('The sentences {} to {}:'.format(*view_sentence_range))\n",
    "print('\\n'.join(text.split('\\n')[view_sentence_range[0]:view_sentence_range[1]]))"
   ]
  },
  {
   "cell_type": "markdown",
   "metadata": {},
   "source": [
    "## Implement Preprocessing Functions\n",
    "The first thing to do to any dataset is preprocessing.  Implement the following preprocessing functions below:\n",
    "- Lookup Table\n",
    "- Tokenize Punctuation\n",
    "\n",
    "### Lookup Table\n",
    "To create a word embedding, you first need to transform the words to ids.  In this function, create two dictionaries:\n",
    "- Dictionary to go from the words to an id, we'll call `vocab_to_int`\n",
    "- Dictionary to go from the id to word, we'll call `int_to_vocab`\n",
    "\n",
    "Return these dictionaries in the following tuple `(vocab_to_int, int_to_vocab)`"
   ]
  },
  {
   "cell_type": "code",
   "execution_count": 4,
   "metadata": {},
   "outputs": [
    {
     "name": "stdout",
     "output_type": "stream",
     "text": [
      "Tests Passed\n"
     ]
    }
   ],
   "source": [
    "import numpy as np\n",
    "import problem_unittests as tests\n",
    "\n",
    "def create_lookup_tables(text):\n",
    "    \"\"\"\n",
    "    Create lookup tables for vocabulary\n",
    "    :param text: The text of tv scripts split into words\n",
    "    :return: A tuple of dicts (vocab_to_int, int_to_vocab)\n",
    "    \"\"\"\n",
    "    # TODO: Implement Function\n",
    "    vocab = sorted(set(text))\n",
    "    vocab_to_int = {c: i for i, c in enumerate(vocab)}\n",
    "    int_to_vocab = dict(enumerate(vocab))\n",
    "    encoded = np.array([vocab_to_int[c] for c in text], dtype = np.int32)\n",
    "    return vocab_to_int, int_to_vocab\n",
    "\n",
    "\n",
    "\"\"\"\n",
    "DON'T MODIFY ANYTHING IN THIS CELL THAT IS BELOW THIS LINE\n",
    "\"\"\"\n",
    "tests.test_create_lookup_tables(create_lookup_tables)"
   ]
  },
  {
   "cell_type": "markdown",
   "metadata": {},
   "source": [
    "### Tokenize Punctuation\n",
    "We'll be splitting the script into a word array using spaces as delimiters.  However, punctuations like periods and exclamation marks make it hard for the neural network to distinguish between the word \"bye\" and \"bye!\".\n",
    "\n",
    "Implement the function `token_lookup` to return a dict that will be used to tokenize symbols like \"!\" into \"||Exclamation_Mark||\".  Create a dictionary for the following symbols where the symbol is the key and value is the token:\n",
    "- Period ( . )\n",
    "- Comma ( , )\n",
    "- Quotation Mark ( \" )\n",
    "- Semicolon ( ; )\n",
    "- Exclamation mark ( ! )\n",
    "- Question mark ( ? )\n",
    "- Left Parentheses ( ( )\n",
    "- Right Parentheses ( ) )\n",
    "- Dash ( -- )\n",
    "- Return ( \\n )\n",
    "\n",
    "This dictionary will be used to token the symbols and add the delimiter (space) around it.  This separates the symbols as it's own word, making it easier for the neural network to predict on the next word. Make sure you don't use a token that could be confused as a word. Instead of using the token \"dash\", try using something like \"||dash||\"."
   ]
  },
  {
   "cell_type": "code",
   "execution_count": 5,
   "metadata": {},
   "outputs": [
    {
     "name": "stdout",
     "output_type": "stream",
     "text": [
      "Tests Passed\n"
     ]
    }
   ],
   "source": [
    "def token_lookup():\n",
    "    \"\"\"\n",
    "    Generate a dict to turn punctuation into a token.\n",
    "    :return: Tokenize dictionary where the key is the punctuation and the value is the token\n",
    "    \"\"\"\n",
    "    # TODO: Implement Function\n",
    "    values = ['Period', 'Comma', 'Quotation_Mark', 'Semicolon', 'Exclamation_mark', 'Question_mark', 'Left_Parenthesis', \n",
    "             'Right_Parenthesis', 'Dash', 'Return']\n",
    "    keys = ['.', ',', '\"', ';', '!', '?', '(', ')', '--', '\\n']\n",
    "    words = dict(zip(keys, values))\n",
    "    \n",
    "    return words\n",
    "\n",
    "\"\"\"\n",
    "DON'T MODIFY ANYTHING IN THIS CELL THAT IS BELOW THIS LINE\n",
    "\"\"\"\n",
    "tests.test_tokenize(token_lookup)"
   ]
  },
  {
   "cell_type": "markdown",
   "metadata": {},
   "source": [
    "## Preprocess all the data and save it\n",
    "Running the code cell below will preprocess all the data and save it to file."
   ]
  },
  {
   "cell_type": "code",
   "execution_count": 6,
   "metadata": {
    "collapsed": true
   },
   "outputs": [],
   "source": [
    "\"\"\"\n",
    "DON'T MODIFY ANYTHING IN THIS CELL\n",
    "\"\"\"\n",
    "# Preprocess Training, Validation, and Testing Data\n",
    "helper.preprocess_and_save_data(data_dir, token_lookup, create_lookup_tables)"
   ]
  },
  {
   "cell_type": "markdown",
   "metadata": {},
   "source": [
    "# Check Point\n",
    "This is your first checkpoint. If you ever decide to come back to this notebook or have to restart the notebook, you can start from here. The preprocessed data has been saved to disk."
   ]
  },
  {
   "cell_type": "code",
   "execution_count": 7,
   "metadata": {
    "collapsed": true
   },
   "outputs": [],
   "source": [
    "\"\"\"\n",
    "DON'T MODIFY ANYTHING IN THIS CELL\n",
    "\"\"\"\n",
    "import helper\n",
    "import numpy as np\n",
    "import problem_unittests as tests\n",
    "\n",
    "int_text, vocab_to_int, int_to_vocab, token_dict = helper.load_preprocess()"
   ]
  },
  {
   "cell_type": "markdown",
   "metadata": {},
   "source": [
    "## Build the Neural Network\n",
    "You'll build the components necessary to build a RNN by implementing the following functions below:\n",
    "- get_inputs\n",
    "- get_init_cell\n",
    "- get_embed\n",
    "- build_rnn\n",
    "- build_nn\n",
    "- get_batches\n",
    "\n",
    "### Check the Version of TensorFlow and Access to GPU"
   ]
  },
  {
   "cell_type": "code",
   "execution_count": 8,
   "metadata": {},
   "outputs": [
    {
     "name": "stdout",
     "output_type": "stream",
     "text": [
      "TensorFlow Version: 1.1.0\n"
     ]
    },
    {
     "name": "stderr",
     "output_type": "stream",
     "text": [
      "/usr/local/lib/python3.5/site-packages/ipykernel_launcher.py:14: UserWarning: No GPU found. Please use a GPU to train your neural network.\n",
      "  \n"
     ]
    }
   ],
   "source": [
    "\"\"\"\n",
    "DON'T MODIFY ANYTHING IN THIS CELL\n",
    "\"\"\"\n",
    "from distutils.version import LooseVersion\n",
    "import warnings\n",
    "import tensorflow as tf\n",
    "\n",
    "# Check TensorFlow Version\n",
    "assert LooseVersion(tf.__version__) >= LooseVersion('1.0'), 'Please use TensorFlow version 1.0 or newer'\n",
    "print('TensorFlow Version: {}'.format(tf.__version__))\n",
    "\n",
    "# Check for a GPU\n",
    "if not tf.test.gpu_device_name():\n",
    "    warnings.warn('No GPU found. Please use a GPU to train your neural network.')\n",
    "else:\n",
    "    print('Default GPU Device: {}'.format(tf.test.gpu_device_name()))"
   ]
  },
  {
   "cell_type": "markdown",
   "metadata": {},
   "source": [
    "### Input\n",
    "Implement the `get_inputs()` function to create TF Placeholders for the Neural Network.  It should create the following placeholders:\n",
    "- Input text placeholder named \"input\" using the [TF Placeholder](https://www.tensorflow.org/api_docs/python/tf/placeholder) `name` parameter.\n",
    "- Targets placeholder\n",
    "- Learning Rate placeholder\n",
    "\n",
    "Return the placeholders in the following tuple `(Input, Targets, LearningRate)`"
   ]
  },
  {
   "cell_type": "code",
   "execution_count": 9,
   "metadata": {},
   "outputs": [
    {
     "name": "stdout",
     "output_type": "stream",
     "text": [
      "Tests Passed\n"
     ]
    }
   ],
   "source": [
    "def get_inputs():\n",
    "    \"\"\"\n",
    "    Create TF Placeholders for input, targets, and learning rate.\n",
    "    :return: Tuple (input, targets, learning rate)\n",
    "    \"\"\"\n",
    "    # TODO: Implement Function\n",
    "    Input = tf.placeholder(dtype=tf.int32, shape=(None, None), name='input')\n",
    "    Targets = tf.placeholder(dtype=tf.int32, shape=(None, None))\n",
    "    LearningRate = tf.placeholder(dtype=tf.float32, shape=(None))\n",
    "    return Input, Targets, LearningRate\n",
    "\n",
    "\n",
    "\"\"\"\n",
    "DON'T MODIFY ANYTHING IN THIS CELL THAT IS BELOW THIS LINE\n",
    "\"\"\"\n",
    "tests.test_get_inputs(get_inputs)"
   ]
  },
  {
   "cell_type": "markdown",
   "metadata": {},
   "source": [
    "### Build RNN Cell and Initialize\n",
    "Stack one or more [`BasicLSTMCells`](https://www.tensorflow.org/api_docs/python/tf/contrib/rnn/BasicLSTMCell) in a [`MultiRNNCell`](https://www.tensorflow.org/api_docs/python/tf/contrib/rnn/MultiRNNCell).\n",
    "- The Rnn size should be set using `rnn_size`\n",
    "- Initalize Cell State using the MultiRNNCell's [`zero_state()`](https://www.tensorflow.org/api_docs/python/tf/contrib/rnn/MultiRNNCell#zero_state) function\n",
    "    - Apply the name \"initial_state\" to the initial state using [`tf.identity()`](https://www.tensorflow.org/api_docs/python/tf/identity)\n",
    "\n",
    "Return the cell and initial state in the following tuple `(Cell, InitialState)`"
   ]
  },
  {
   "cell_type": "code",
   "execution_count": 10,
   "metadata": {},
   "outputs": [
    {
     "name": "stdout",
     "output_type": "stream",
     "text": [
      "Tests Passed\n"
     ]
    }
   ],
   "source": [
    "def get_init_cell(batch_size, rnn_size):\n",
    "    \"\"\"\n",
    "    Create an RNN Cell and initialize it.\n",
    "    :param batch_size: Size of batches\n",
    "    :param rnn_size: Size of RNNs\n",
    "    :return: Tuple (cell, initialize state)\n",
    "    \"\"\"\n",
    "    # TODO: Implement Function\n",
    "    lstm = tf.contrib.rnn.BasicLSTMCell(rnn_size)\n",
    "    cell = tf.contrib.rnn.MultiRNNCell([lstm])\n",
    "    initial_state = tf.identity(cell.zero_state(batch_size, tf.int32), name='initial_state')\n",
    "    return cell, initial_state\n",
    "\n",
    "\n",
    "\"\"\"\n",
    "DON'T MODIFY ANYTHING IN THIS CELL THAT IS BELOW THIS LINE\n",
    "\"\"\"\n",
    "tests.test_get_init_cell(get_init_cell)"
   ]
  },
  {
   "cell_type": "markdown",
   "metadata": {},
   "source": [
    "### Word Embedding\n",
    "Apply embedding to `input_data` using TensorFlow.  Return the embedded sequence."
   ]
  },
  {
   "cell_type": "code",
   "execution_count": 11,
   "metadata": {},
   "outputs": [
    {
     "name": "stdout",
     "output_type": "stream",
     "text": [
      "Tests Passed\n"
     ]
    }
   ],
   "source": [
    "def get_embed(input_data, vocab_size, embed_dim):\n",
    "    \"\"\"\n",
    "    Create embedding for <input_data>.\n",
    "    :param input_data: TF placeholder for text input.\n",
    "    :param vocab_size: Number of words in vocabulary.\n",
    "    :param embed_dim: Number of embedding dimensions\n",
    "    :return: Embedded input.\n",
    "    \"\"\"\n",
    "    # TODO: Implement Function\n",
    "    embedding = tf.Variable(tf.random_uniform((vocab_size, embed_dim), -1, 1))\n",
    "    embed = tf.nn.embedding_lookup(embedding, input_data)\n",
    "    return embed\n",
    "\n",
    "\n",
    "\"\"\"\n",
    "DON'T MODIFY ANYTHING IN THIS CELL THAT IS BELOW THIS LINE\n",
    "\"\"\"\n",
    "tests.test_get_embed(get_embed)"
   ]
  },
  {
   "cell_type": "markdown",
   "metadata": {},
   "source": [
    "### Build RNN\n",
    "You created a RNN Cell in the `get_init_cell()` function.  Time to use the cell to create a RNN.\n",
    "- Build the RNN using the [`tf.nn.dynamic_rnn()`](https://www.tensorflow.org/api_docs/python/tf/nn/dynamic_rnn)\n",
    " - Apply the name \"final_state\" to the final state using [`tf.identity()`](https://www.tensorflow.org/api_docs/python/tf/identity)\n",
    "\n",
    "Return the outputs and final_state state in the following tuple `(Outputs, FinalState)` "
   ]
  },
  {
   "cell_type": "code",
   "execution_count": 12,
   "metadata": {},
   "outputs": [
    {
     "name": "stdout",
     "output_type": "stream",
     "text": [
      "Tests Passed\n"
     ]
    }
   ],
   "source": [
    "def build_rnn(cell, inputs):\n",
    "    \"\"\"\n",
    "    Create a RNN using a RNN Cell\n",
    "    :param cell: RNN Cell\n",
    "    :param inputs: Input text data\n",
    "    :return: Tuple (Outputs, Final State)\n",
    "    \"\"\"\n",
    "    # TODO: Implement Function\n",
    "    output, states = tf.nn.dynamic_rnn(cell, inputs, dtype=tf.float32)\n",
    "    final_state = tf.identity(states, name='final_state')\n",
    "    return output, final_state\n",
    "\n",
    "\n",
    "\"\"\"\n",
    "DON'T MODIFY ANYTHING IN THIS CELL THAT IS BELOW THIS LINE\n",
    "\"\"\"\n",
    "tests.test_build_rnn(build_rnn)"
   ]
  },
  {
   "cell_type": "markdown",
   "metadata": {},
   "source": [
    "### Build the Neural Network\n",
    "Apply the functions you implemented above to:\n",
    "- Apply embedding to `input_data` using your `get_embed(input_data, vocab_size, embed_dim)` function.\n",
    "- Build RNN using `cell` and your `build_rnn(cell, inputs)` function.\n",
    "- Apply a fully connected layer with a linear activation and `vocab_size` as the number of outputs.\n",
    "\n",
    "Return the logits and final state in the following tuple (Logits, FinalState) "
   ]
  },
  {
   "cell_type": "code",
   "execution_count": 13,
   "metadata": {},
   "outputs": [
    {
     "name": "stdout",
     "output_type": "stream",
     "text": [
      "Tests Passed\n"
     ]
    }
   ],
   "source": [
    "def build_nn(cell, rnn_size, input_data, vocab_size, embed_dim):\n",
    "    \"\"\"\n",
    "    Build part of the neural network\n",
    "    :param cell: RNN cell\n",
    "    :param rnn_size: Size of rnns\n",
    "    :param input_data: Input data\n",
    "    :param vocab_size: Vocabulary size\n",
    "    :param embed_dim: Number of embedding dimensions\n",
    "    :return: Tuple (Logits, FinalState)\n",
    "    \"\"\"\n",
    "    # TODO: Implement Function\n",
    "    embed = get_embed(input_data, vocab_size, rnn_size)\n",
    "    output, final_state = build_rnn(cell, embed)\n",
    "    logits = tf.contrib.layers.fully_connected(output, vocab_size, activation_fn=None, \n",
    "                                               weights_initializer=tf.truncated_normal_initializer(stddev=0.1), biases_initializer=tf.zeros_initializer())\n",
    "    \n",
    "    return logits, final_state\n",
    "\n",
    "\n",
    "\"\"\"\n",
    "DON'T MODIFY ANYTHING IN THIS CELL THAT IS BELOW THIS LINE\n",
    "\"\"\"\n",
    "tests.test_build_nn(build_nn)"
   ]
  },
  {
   "cell_type": "markdown",
   "metadata": {},
   "source": [
    "### Batches\n",
    "Implement `get_batches` to create batches of input and targets using `int_text`.  The batches should be a Numpy array with the shape `(number of batches, 2, batch size, sequence length)`. Each batch contains two elements:\n",
    "- The first element is a single batch of **input** with the shape `[batch size, sequence length]`\n",
    "- The second element is a single batch of **targets** with the shape `[batch size, sequence length]`\n",
    "\n",
    "If you can't fill the last batch with enough data, drop the last batch.\n",
    "\n",
    "For exmple, `get_batches([1, 2, 3, 4, 5, 6, 7, 8, 9, 10, 11, 12, 13, 14, 15, 16, 17, 18, 19, 20], 3, 2)` would return a Numpy array of the following:\n",
    "```\n",
    "[\n",
    "  # First Batch\n",
    "  [\n",
    "    # Batch of Input\n",
    "    [[ 1  2], [ 7  8], [13 14]]\n",
    "    # Batch of targets\n",
    "    [[ 2  3], [ 8  9], [14 15]]\n",
    "  ]\n",
    "\n",
    "  # Second Batch\n",
    "  [\n",
    "    # Batch of Input\n",
    "    [[ 3  4], [ 9 10], [15 16]]\n",
    "    # Batch of targets\n",
    "    [[ 4  5], [10 11], [16 17]]\n",
    "  ]\n",
    "\n",
    "  # Third Batch\n",
    "  [\n",
    "    # Batch of Input\n",
    "    [[ 5  6], [11 12], [17 18]]\n",
    "    # Batch of targets\n",
    "    [[ 6  7], [12 13], [18  1]]\n",
    "  ]\n",
    "]\n",
    "```\n",
    "\n",
    "Notice that the last target value in the last batch is the first input value of the first batch. In this case, `1`. This is a common technique used when creating sequence batches, although it is rather unintuitive."
   ]
  },
  {
   "cell_type": "code",
   "execution_count": 14,
   "metadata": {},
   "outputs": [
    {
     "name": "stdout",
     "output_type": "stream",
     "text": [
      "Tests Passed\n"
     ]
    }
   ],
   "source": [
    "def get_batches(int_text, batch_size, seq_length):\n",
    "    \"\"\"\n",
    "    Return batches of input and target\n",
    "    :param int_text: Text with the words replaced by their ids\n",
    "    :param batch_size: The size of batch\n",
    "    :param seq_length: The length of sequence\n",
    "    :return: Batches as a Numpy array\n",
    "    \"\"\"\n",
    "    # TODO: Implement Function\n",
    "    n_batches = int(len(int_text) / batch_size / seq_length)    \n",
    "    batches = np.zeros(shape = (n_batches, 2, batch_size, seq_length), dtype = np.int32)\n",
    "    index = 0\n",
    "    for batch_index in range(n_batches):  \n",
    "        one_batch = np.zeros(shape = (2, batch_size, seq_length), dtype = np.int32)\n",
    "        one_batch_seq = np.zeros(shape = (batch_size, seq_length), dtype = np.int32)\n",
    "        one_batch_tar = np.zeros(shape = (batch_size, seq_length), dtype = np.int32)\n",
    "        for n in range(batch_size):\n",
    "            index = batch_index * seq_length + n * n_batches * seq_length            \n",
    "            seq = np.array([int_text[index:index+seq_length]])\n",
    "            if index+seq_length+1 <= n_batches * batch_size * seq_length:\n",
    "                tar = np.array([int_text[index+1:index+seq_length+1]])\n",
    "            else:\n",
    "                tar = np.array([int_text[index+1:index+seq_length]])\n",
    "                tar = np.append(tar, np.array([int_text[0]]))\n",
    "            one_batch_seq[n] = seq;\n",
    "            one_batch_tar[n] = tar;\n",
    "             \n",
    "        one_batch[0] = one_batch_seq\n",
    "        one_batch[1] = one_batch_tar\n",
    "        batches[batch_index] = one_batch\n",
    "        \n",
    "    return batches\n",
    "\n",
    "\"\"\"\n",
    "DON'T MODIFY ANYTHING IN THIS CELL THAT IS BELOW THIS LINE\n",
    "\"\"\"\n",
    "tests.test_get_batches(get_batches)"
   ]
  },
  {
   "cell_type": "markdown",
   "metadata": {},
   "source": [
    "## Neural Network Training\n",
    "### Hyperparameters\n",
    "Tune the following parameters:\n",
    "\n",
    "- Set `num_epochs` to the number of epochs.\n",
    "- Set `batch_size` to the batch size.\n",
    "- Set `rnn_size` to the size of the RNNs.\n",
    "- Set `embed_dim` to the size of the embedding.\n",
    "- Set `seq_length` to the length of sequence.\n",
    "- Set `learning_rate` to the learning rate.\n",
    "- Set `show_every_n_batches` to the number of batches the neural network should print progress."
   ]
  },
  {
   "cell_type": "code",
   "execution_count": 15,
   "metadata": {
    "collapsed": true
   },
   "outputs": [],
   "source": [
    "# Number of Epochs\n",
    "num_epochs = 150\n",
    "# Batch Size\n",
    "batch_size = 100\n",
    "# RNN Size\n",
    "rnn_size = 512\n",
    "# Embedding Dimension Size\n",
    "embed_dim = 300\n",
    "# Sequence Length\n",
    "seq_length = 50\n",
    "# Learning Rate\n",
    "learning_rate = 0.001\n",
    "# Show stats for every n number of batches\n",
    "show_every_n_batches = 10\n",
    "\n",
    "\"\"\"\n",
    "DON'T MODIFY ANYTHING IN THIS CELL THAT IS BELOW THIS LINE\n",
    "\"\"\"\n",
    "save_dir = './save'"
   ]
  },
  {
   "cell_type": "markdown",
   "metadata": {},
   "source": [
    "### Build the Graph\n",
    "Build the graph using the neural network you implemented."
   ]
  },
  {
   "cell_type": "code",
   "execution_count": 17,
   "metadata": {
    "collapsed": true
   },
   "outputs": [],
   "source": [
    "\"\"\"\n",
    "DON'T MODIFY ANYTHING IN THIS CELL\n",
    "\"\"\"\n",
    "from tensorflow.contrib import seq2seq\n",
    "\n",
    "train_graph = tf.Graph()\n",
    "with train_graph.as_default():\n",
    "    vocab_size = len(int_to_vocab)\n",
    "    input_text, targets, lr = get_inputs()\n",
    "    input_data_shape = tf.shape(input_text)\n",
    "    cell, initial_state = get_init_cell(input_data_shape[0], rnn_size)\n",
    "    logits, final_state = build_nn(cell, rnn_size, input_text, vocab_size, embed_dim)\n",
    "\n",
    "    # Probabilities for generating words\n",
    "    probs = tf.nn.softmax(logits, name='probs')\n",
    "\n",
    "    # Loss function\n",
    "    cost = seq2seq.sequence_loss(\n",
    "        logits,\n",
    "        targets,\n",
    "        tf.ones([input_data_shape[0], input_data_shape[1]]))\n",
    "\n",
    "    # Optimizer\n",
    "    optimizer = tf.train.AdamOptimizer(lr)\n",
    "\n",
    "    # Gradient Clipping\n",
    "    gradients = optimizer.compute_gradients(cost)\n",
    "    capped_gradients = [(tf.clip_by_value(grad, -1., 1.), var) for grad, var in gradients if grad is not None]\n",
    "    train_op = optimizer.apply_gradients(capped_gradients)"
   ]
  },
  {
   "cell_type": "markdown",
   "metadata": {},
   "source": [
    "## Train\n",
    "Train the neural network on the preprocessed data.  If you have a hard time getting a good loss, check the [forums](https://discussions.udacity.com/) to see if anyone is having the same problem."
   ]
  },
  {
   "cell_type": "code",
   "execution_count": 18,
   "metadata": {},
   "outputs": [
    {
     "name": "stdout",
     "output_type": "stream",
     "text": [
      "Epoch   0 Batch    0/13   train_loss = 8.856\n",
      "Epoch   0 Batch   10/13   train_loss = 6.149\n",
      "Epoch   1 Batch    7/13   train_loss = 5.523\n",
      "Epoch   2 Batch    4/13   train_loss = 5.246\n",
      "Epoch   3 Batch    1/13   train_loss = 5.043\n",
      "Epoch   3 Batch   11/13   train_loss = 4.904\n",
      "Epoch   4 Batch    8/13   train_loss = 4.810\n",
      "Epoch   5 Batch    5/13   train_loss = 4.594\n",
      "Epoch   6 Batch    2/13   train_loss = 4.528\n",
      "Epoch   6 Batch   12/13   train_loss = 4.436\n",
      "Epoch   7 Batch    9/13   train_loss = 4.289\n",
      "Epoch   8 Batch    6/13   train_loss = 4.087\n",
      "Epoch   9 Batch    3/13   train_loss = 3.922\n",
      "Epoch  10 Batch    0/13   train_loss = 3.859\n",
      "Epoch  10 Batch   10/13   train_loss = 3.785\n",
      "Epoch  11 Batch    7/13   train_loss = 3.642\n",
      "Epoch  12 Batch    4/13   train_loss = 3.499\n",
      "Epoch  13 Batch    1/13   train_loss = 3.349\n",
      "Epoch  13 Batch   11/13   train_loss = 3.276\n",
      "Epoch  14 Batch    8/13   train_loss = 3.158\n",
      "Epoch  15 Batch    5/13   train_loss = 3.002\n",
      "Epoch  16 Batch    2/13   train_loss = 2.938\n",
      "Epoch  16 Batch   12/13   train_loss = 2.871\n",
      "Epoch  17 Batch    9/13   train_loss = 2.747\n",
      "Epoch  18 Batch    6/13   train_loss = 2.631\n",
      "Epoch  19 Batch    3/13   train_loss = 2.494\n",
      "Epoch  20 Batch    0/13   train_loss = 2.425\n",
      "Epoch  20 Batch   10/13   train_loss = 2.354\n",
      "Epoch  21 Batch    7/13   train_loss = 2.245\n",
      "Epoch  22 Batch    4/13   train_loss = 2.192\n",
      "Epoch  23 Batch    1/13   train_loss = 2.076\n",
      "Epoch  23 Batch   11/13   train_loss = 2.045\n",
      "Epoch  24 Batch    8/13   train_loss = 1.918\n",
      "Epoch  25 Batch    5/13   train_loss = 1.815\n",
      "Epoch  26 Batch    2/13   train_loss = 1.748\n",
      "Epoch  26 Batch   12/13   train_loss = 1.709\n",
      "Epoch  27 Batch    9/13   train_loss = 1.644\n",
      "Epoch  28 Batch    6/13   train_loss = 1.566\n",
      "Epoch  29 Batch    3/13   train_loss = 1.500\n",
      "Epoch  30 Batch    0/13   train_loss = 1.444\n",
      "Epoch  30 Batch   10/13   train_loss = 1.401\n",
      "Epoch  31 Batch    7/13   train_loss = 1.321\n",
      "Epoch  32 Batch    4/13   train_loss = 1.284\n",
      "Epoch  33 Batch    1/13   train_loss = 1.227\n",
      "Epoch  33 Batch   11/13   train_loss = 1.202\n",
      "Epoch  34 Batch    8/13   train_loss = 1.131\n",
      "Epoch  35 Batch    5/13   train_loss = 1.053\n",
      "Epoch  36 Batch    2/13   train_loss = 0.997\n",
      "Epoch  36 Batch   12/13   train_loss = 0.997\n",
      "Epoch  37 Batch    9/13   train_loss = 0.939\n",
      "Epoch  38 Batch    6/13   train_loss = 0.892\n",
      "Epoch  39 Batch    3/13   train_loss = 0.853\n",
      "Epoch  40 Batch    0/13   train_loss = 0.820\n",
      "Epoch  40 Batch   10/13   train_loss = 0.794\n",
      "Epoch  41 Batch    7/13   train_loss = 0.758\n",
      "Epoch  42 Batch    4/13   train_loss = 0.742\n",
      "Epoch  43 Batch    1/13   train_loss = 0.692\n",
      "Epoch  43 Batch   11/13   train_loss = 0.668\n",
      "Epoch  44 Batch    8/13   train_loss = 0.637\n",
      "Epoch  45 Batch    5/13   train_loss = 0.597\n",
      "Epoch  46 Batch    2/13   train_loss = 0.567\n",
      "Epoch  46 Batch   12/13   train_loss = 0.536\n",
      "Epoch  47 Batch    9/13   train_loss = 0.495\n",
      "Epoch  48 Batch    6/13   train_loss = 0.454\n",
      "Epoch  49 Batch    3/13   train_loss = 0.465\n",
      "Epoch  50 Batch    0/13   train_loss = 0.436\n",
      "Epoch  50 Batch   10/13   train_loss = 0.429\n",
      "Epoch  51 Batch    7/13   train_loss = 0.402\n",
      "Epoch  52 Batch    4/13   train_loss = 0.395\n",
      "Epoch  53 Batch    1/13   train_loss = 0.372\n",
      "Epoch  53 Batch   11/13   train_loss = 0.370\n",
      "Epoch  54 Batch    8/13   train_loss = 0.346\n",
      "Epoch  55 Batch    5/13   train_loss = 0.322\n",
      "Epoch  56 Batch    2/13   train_loss = 0.310\n",
      "Epoch  56 Batch   12/13   train_loss = 0.287\n",
      "Epoch  57 Batch    9/13   train_loss = 0.280\n",
      "Epoch  58 Batch    6/13   train_loss = 0.255\n",
      "Epoch  59 Batch    3/13   train_loss = 0.255\n",
      "Epoch  60 Batch    0/13   train_loss = 0.249\n",
      "Epoch  60 Batch   10/13   train_loss = 0.240\n",
      "Epoch  61 Batch    7/13   train_loss = 0.228\n",
      "Epoch  62 Batch    4/13   train_loss = 0.233\n",
      "Epoch  63 Batch    1/13   train_loss = 0.216\n",
      "Epoch  63 Batch   11/13   train_loss = 0.218\n",
      "Epoch  64 Batch    8/13   train_loss = 0.215\n",
      "Epoch  65 Batch    5/13   train_loss = 0.197\n",
      "Epoch  66 Batch    2/13   train_loss = 0.193\n",
      "Epoch  66 Batch   12/13   train_loss = 0.189\n",
      "Epoch  67 Batch    9/13   train_loss = 0.179\n",
      "Epoch  68 Batch    6/13   train_loss = 0.174\n",
      "Epoch  69 Batch    3/13   train_loss = 0.177\n",
      "Epoch  70 Batch    0/13   train_loss = 0.172\n",
      "Epoch  70 Batch   10/13   train_loss = 0.163\n",
      "Epoch  71 Batch    7/13   train_loss = 0.150\n",
      "Epoch  72 Batch    4/13   train_loss = 0.162\n",
      "Epoch  73 Batch    1/13   train_loss = 0.149\n",
      "Epoch  73 Batch   11/13   train_loss = 0.142\n",
      "Epoch  74 Batch    8/13   train_loss = 0.143\n",
      "Epoch  75 Batch    5/13   train_loss = 0.128\n",
      "Epoch  76 Batch    2/13   train_loss = 0.129\n",
      "Epoch  76 Batch   12/13   train_loss = 0.123\n",
      "Epoch  77 Batch    9/13   train_loss = 0.114\n",
      "Epoch  78 Batch    6/13   train_loss = 0.112\n",
      "Epoch  79 Batch    3/13   train_loss = 0.112\n",
      "Epoch  80 Batch    0/13   train_loss = 0.105\n",
      "Epoch  80 Batch   10/13   train_loss = 0.098\n",
      "Epoch  81 Batch    7/13   train_loss = 0.099\n",
      "Epoch  82 Batch    4/13   train_loss = 0.106\n",
      "Epoch  83 Batch    1/13   train_loss = 0.098\n",
      "Epoch  83 Batch   11/13   train_loss = 0.101\n",
      "Epoch  84 Batch    8/13   train_loss = 0.097\n",
      "Epoch  85 Batch    5/13   train_loss = 0.088\n",
      "Epoch  86 Batch    2/13   train_loss = 0.094\n",
      "Epoch  86 Batch   12/13   train_loss = 0.090\n",
      "Epoch  87 Batch    9/13   train_loss = 0.082\n",
      "Epoch  88 Batch    6/13   train_loss = 0.086\n",
      "Epoch  89 Batch    3/13   train_loss = 0.089\n",
      "Epoch  90 Batch    0/13   train_loss = 0.082\n",
      "Epoch  90 Batch   10/13   train_loss = 0.078\n",
      "Epoch  91 Batch    7/13   train_loss = 0.079\n",
      "Epoch  92 Batch    4/13   train_loss = 0.084\n",
      "Epoch  93 Batch    1/13   train_loss = 0.078\n",
      "Epoch  93 Batch   11/13   train_loss = 0.080\n",
      "Epoch  94 Batch    8/13   train_loss = 0.078\n",
      "Epoch  95 Batch    5/13   train_loss = 0.070\n",
      "Epoch  96 Batch    2/13   train_loss = 0.076\n",
      "Epoch  96 Batch   12/13   train_loss = 0.072\n",
      "Epoch  97 Batch    9/13   train_loss = 0.068\n",
      "Epoch  98 Batch    6/13   train_loss = 0.071\n",
      "Epoch  99 Batch    3/13   train_loss = 0.074\n",
      "Epoch 100 Batch    0/13   train_loss = 0.070\n",
      "Epoch 100 Batch   10/13   train_loss = 0.066\n",
      "Epoch 101 Batch    7/13   train_loss = 0.069\n",
      "Epoch 102 Batch    4/13   train_loss = 0.074\n",
      "Epoch 103 Batch    1/13   train_loss = 0.070\n",
      "Epoch 103 Batch   11/13   train_loss = 0.071\n",
      "Epoch 104 Batch    8/13   train_loss = 0.069\n",
      "Epoch 105 Batch    5/13   train_loss = 0.061\n",
      "Epoch 106 Batch    2/13   train_loss = 0.068\n",
      "Epoch 106 Batch   12/13   train_loss = 0.065\n",
      "Epoch 107 Batch    9/13   train_loss = 0.061\n",
      "Epoch 108 Batch    6/13   train_loss = 0.064\n",
      "Epoch 109 Batch    3/13   train_loss = 0.067\n",
      "Epoch 110 Batch    0/13   train_loss = 0.063\n",
      "Epoch 110 Batch   10/13   train_loss = 0.060\n",
      "Epoch 111 Batch    7/13   train_loss = 0.062\n",
      "Epoch 112 Batch    4/13   train_loss = 0.067\n",
      "Epoch 113 Batch    1/13   train_loss = 0.063\n",
      "Epoch 113 Batch   11/13   train_loss = 0.063\n",
      "Epoch 114 Batch    8/13   train_loss = 0.063\n",
      "Epoch 115 Batch    5/13   train_loss = 0.056\n",
      "Epoch 116 Batch    2/13   train_loss = 0.061\n",
      "Epoch 116 Batch   12/13   train_loss = 0.058\n",
      "Epoch 117 Batch    9/13   train_loss = 0.056\n",
      "Epoch 118 Batch    6/13   train_loss = 0.058\n",
      "Epoch 119 Batch    3/13   train_loss = 0.061\n",
      "Epoch 120 Batch    0/13   train_loss = 0.059\n",
      "Epoch 120 Batch   10/13   train_loss = 0.054\n",
      "Epoch 121 Batch    7/13   train_loss = 0.057\n",
      "Epoch 122 Batch    4/13   train_loss = 0.063\n",
      "Epoch 123 Batch    1/13   train_loss = 0.059\n",
      "Epoch 123 Batch   11/13   train_loss = 0.059\n",
      "Epoch 124 Batch    8/13   train_loss = 0.059\n",
      "Epoch 125 Batch    5/13   train_loss = 0.052\n",
      "Epoch 126 Batch    2/13   train_loss = 0.058\n",
      "Epoch 126 Batch   12/13   train_loss = 0.055\n",
      "Epoch 127 Batch    9/13   train_loss = 0.053\n",
      "Epoch 128 Batch    6/13   train_loss = 0.055\n",
      "Epoch 129 Batch    3/13   train_loss = 0.058\n",
      "Epoch 130 Batch    0/13   train_loss = 0.056\n",
      "Epoch 130 Batch   10/13   train_loss = 0.052\n",
      "Epoch 131 Batch    7/13   train_loss = 0.054\n",
      "Epoch 132 Batch    4/13   train_loss = 0.060\n",
      "Epoch 133 Batch    1/13   train_loss = 0.056\n",
      "Epoch 133 Batch   11/13   train_loss = 0.057\n",
      "Epoch 134 Batch    8/13   train_loss = 0.057\n",
      "Epoch 135 Batch    5/13   train_loss = 0.049\n",
      "Epoch 136 Batch    2/13   train_loss = 0.055\n",
      "Epoch 136 Batch   12/13   train_loss = 0.052\n",
      "Epoch 137 Batch    9/13   train_loss = 0.051\n",
      "Epoch 138 Batch    6/13   train_loss = 0.053\n",
      "Epoch 139 Batch    3/13   train_loss = 0.056\n",
      "Epoch 140 Batch    0/13   train_loss = 0.054\n"
     ]
    },
    {
     "name": "stdout",
     "output_type": "stream",
     "text": [
      "Epoch 140 Batch   10/13   train_loss = 0.050\n",
      "Epoch 141 Batch    7/13   train_loss = 0.052\n",
      "Epoch 142 Batch    4/13   train_loss = 0.058\n",
      "Epoch 143 Batch    1/13   train_loss = 0.054\n",
      "Epoch 143 Batch   11/13   train_loss = 0.055\n",
      "Epoch 144 Batch    8/13   train_loss = 0.055\n",
      "Epoch 145 Batch    5/13   train_loss = 0.048\n",
      "Epoch 146 Batch    2/13   train_loss = 0.054\n",
      "Epoch 146 Batch   12/13   train_loss = 0.051\n",
      "Epoch 147 Batch    9/13   train_loss = 0.049\n",
      "Epoch 148 Batch    6/13   train_loss = 0.051\n",
      "Epoch 149 Batch    3/13   train_loss = 0.055\n",
      "Model Trained and Saved\n"
     ]
    }
   ],
   "source": [
    "\"\"\"\n",
    "DON'T MODIFY ANYTHING IN THIS CELL\n",
    "\"\"\"\n",
    "batches = get_batches(int_text, batch_size, seq_length)\n",
    "\n",
    "with tf.Session(graph=train_graph) as sess:\n",
    "    sess.run(tf.global_variables_initializer())\n",
    "\n",
    "    for epoch_i in range(num_epochs):\n",
    "        state = sess.run(initial_state, {input_text: batches[0][0]})\n",
    "\n",
    "        for batch_i, (x, y) in enumerate(batches):\n",
    "            feed = {\n",
    "                input_text: x,\n",
    "                targets: y,\n",
    "                initial_state: state,\n",
    "                lr: learning_rate}\n",
    "            train_loss, state, _ = sess.run([cost, final_state, train_op], feed)\n",
    "\n",
    "            # Show every <show_every_n_batches> batches\n",
    "            if (epoch_i * len(batches) + batch_i) % show_every_n_batches == 0:\n",
    "                print('Epoch {:>3} Batch {:>4}/{}   train_loss = {:.3f}'.format(\n",
    "                    epoch_i,\n",
    "                    batch_i,\n",
    "                    len(batches),\n",
    "                    train_loss))\n",
    "\n",
    "    # Save Model\n",
    "    saver = tf.train.Saver()\n",
    "    saver.save(sess, save_dir)\n",
    "    print('Model Trained and Saved')"
   ]
  },
  {
   "cell_type": "markdown",
   "metadata": {},
   "source": [
    "## Save Parameters\n",
    "Save `seq_length` and `save_dir` for generating a new TV script."
   ]
  },
  {
   "cell_type": "code",
   "execution_count": 18,
   "metadata": {
    "collapsed": true
   },
   "outputs": [],
   "source": [
    "\"\"\"\n",
    "DON'T MODIFY ANYTHING IN THIS CELL\n",
    "\"\"\"\n",
    "# Save parameters for checkpoint\n",
    "helper.save_params((seq_length, save_dir))"
   ]
  },
  {
   "cell_type": "markdown",
   "metadata": {},
   "source": [
    "# Checkpoint"
   ]
  },
  {
   "cell_type": "code",
   "execution_count": 19,
   "metadata": {},
   "outputs": [],
   "source": [
    "\"\"\"\n",
    "DON'T MODIFY ANYTHING IN THIS CELL\n",
    "\"\"\"\n",
    "import tensorflow as tf\n",
    "import numpy as np\n",
    "import helper\n",
    "import problem_unittests as tests\n",
    "\n",
    "_, vocab_to_int, int_to_vocab, token_dict = helper.load_preprocess()\n",
    "seq_length, load_dir = helper.load_params()"
   ]
  },
  {
   "cell_type": "markdown",
   "metadata": {},
   "source": [
    "## Implement Generate Functions\n",
    "### Get Tensors\n",
    "Get tensors from `loaded_graph` using the function [`get_tensor_by_name()`](https://www.tensorflow.org/api_docs/python/tf/Graph#get_tensor_by_name).  Get the tensors using the following names:\n",
    "- \"input:0\"\n",
    "- \"initial_state:0\"\n",
    "- \"final_state:0\"\n",
    "- \"probs:0\"\n",
    "\n",
    "Return the tensors in the following tuple `(InputTensor, InitialStateTensor, FinalStateTensor, ProbsTensor)` "
   ]
  },
  {
   "cell_type": "code",
   "execution_count": 25,
   "metadata": {},
   "outputs": [
    {
     "name": "stdout",
     "output_type": "stream",
     "text": [
      "Tests Passed\n"
     ]
    }
   ],
   "source": [
    "def get_tensors(loaded_graph):\n",
    "    \"\"\"\n",
    "    Get input, initial state, final state, and probabilities tensor from <loaded_graph>\n",
    "    :param loaded_graph: TensorFlow graph loaded from file\n",
    "    :return: Tuple (InputTensor, InitialStateTensor, FinalStateTensor, ProbsTensor)\n",
    "    \"\"\"\n",
    "    # TODO: Implement Function\n",
    "    input_tensor = loaded_graph.get_tensor_by_name(\"input:0\")\n",
    "    initial_tensor = loaded_graph.get_tensor_by_name(\"initial_state:0\")\n",
    "    final_tensor = loaded_graph.get_tensor_by_name(\"final_state:0\")\n",
    "    prob_tensor = loaded_graph.get_tensor_by_name(\"probs:0\")\n",
    "    return input_tensor, initial_tensor, final_tensor, prob_tensor\n",
    "\n",
    "\n",
    "\"\"\"\n",
    "DON'T MODIFY ANYTHING IN THIS CELL THAT IS BELOW THIS LINE\n",
    "\"\"\"\n",
    "tests.test_get_tensors(get_tensors)"
   ]
  },
  {
   "cell_type": "markdown",
   "metadata": {},
   "source": [
    "### Choose Word\n",
    "Implement the `pick_word()` function to select the next word using `probabilities`."
   ]
  },
  {
   "cell_type": "code",
   "execution_count": 26,
   "metadata": {},
   "outputs": [
    {
     "name": "stdout",
     "output_type": "stream",
     "text": [
      "Tests Passed\n"
     ]
    }
   ],
   "source": [
    "def pick_word(probabilities, int_to_vocab):\n",
    "    \"\"\"\n",
    "    Pick the next word in the generated text\n",
    "    :param probabilities: Probabilites of the next word\n",
    "    :param int_to_vocab: Dictionary of word ids as the keys and words as the values\n",
    "    :return: String of the predicted word\n",
    "    \"\"\"\n",
    "    # TODO: Implement Function\n",
    "    word = np.random.choice(list(int_to_vocab.values()), p=probabilities)\n",
    "    return word\n",
    "\n",
    "\"\"\"\n",
    "DON'T MODIFY ANYTHING IN THIS CELL THAT IS BELOW THIS LINE\n",
    "\"\"\"\n",
    "tests.test_pick_word(pick_word)"
   ]
  },
  {
   "cell_type": "markdown",
   "metadata": {},
   "source": [
    "## Generate TV Script\n",
    "This will generate the TV script for you.  Set `gen_length` to the length of TV script you want to generate."
   ]
  },
  {
   "cell_type": "code",
   "execution_count": 27,
   "metadata": {},
   "outputs": [
    {
     "name": "stdout",
     "output_type": "stream",
     "text": [
      "INFO:tensorflow:Restoring parameters from ./save\n",
      "moe_szyslak: say, ah, barn. remember when i said i'd have to send away to nasa to calculate your bar tab?\n",
      "barney_gumble:(chuckles) oh yeah, we all had a good laugh, moe.\n",
      "moe_szyslak:(dead serious) the results came back in the back room.\n",
      "homer_simpson: that's my life.(like how to do) i'll get these helicopter lessons.\n",
      "homer_simpson: i'll woo you, these dear, we're venture capitalists.(fast) we turn dreams into that beer.\n",
      "moe_szyslak: i'm a well-wisher, in a place to have. my lucky for just hope. we gotta have to steal...\n",
      "homer_simpson: yeah? well, listen, in case it's your honor, i don't you really wanna come here.\n",
      "homer_simpson: i want you to french, and i'm a ride home. we all had had this is a good.\n",
      "lenny_leonard: yeah, you know what i mean we should die.\n",
      "carl_carlson: this is the news to find you get them?\n",
      "moe_szyslak: booze, this.\n",
      "is\n"
     ]
    }
   ],
   "source": [
    "gen_length = 200\n",
    "# homer_simpson, moe_szyslak, or Barney_Gumble\n",
    "prime_word = 'moe_szyslak'\n",
    "\n",
    "\"\"\"\n",
    "DON'T MODIFY ANYTHING IN THIS CELL THAT IS BELOW THIS LINE\n",
    "\"\"\"\n",
    "loaded_graph = tf.Graph()\n",
    "with tf.Session(graph=loaded_graph) as sess:\n",
    "    # Load saved model\n",
    "    loader = tf.train.import_meta_graph(load_dir + '.meta')\n",
    "    loader.restore(sess, load_dir)\n",
    "\n",
    "    # Get Tensors from loaded model\n",
    "    input_text, initial_state, final_state, probs = get_tensors(loaded_graph)\n",
    "\n",
    "    # Sentences generation setup\n",
    "    gen_sentences = [prime_word + ':']\n",
    "    prev_state = sess.run(initial_state, {input_text: np.array([[1]])})\n",
    "\n",
    "    # Generate sentences\n",
    "    for n in range(gen_length):\n",
    "        # Dynamic Input\n",
    "        dyn_input = [[vocab_to_int[word] for word in gen_sentences[-seq_length:]]]\n",
    "        dyn_seq_length = len(dyn_input[0])\n",
    "\n",
    "        # Get Prediction\n",
    "        probabilities, prev_state = sess.run(\n",
    "            [probs, final_state],\n",
    "            {input_text: dyn_input, initial_state: prev_state})\n",
    "        \n",
    "        pred_word = pick_word(probabilities[dyn_seq_length-1], int_to_vocab)\n",
    "\n",
    "        gen_sentences.append(pred_word)\n",
    "    \n",
    "    # Remove tokens\n",
    "    tv_script = ' '.join(gen_sentences)\n",
    "    for key, token in token_dict.items():\n",
    "        ending = ' ' if key in ['\\n', '(', '\"'] else ''\n",
    "        tv_script = tv_script.replace(' ' + token.lower(), key)\n",
    "    tv_script = tv_script.replace('\\n ', '\\n')\n",
    "    tv_script = tv_script.replace('( ', '(')\n",
    "        \n",
    "    print(tv_script)"
   ]
  },
  {
   "cell_type": "markdown",
   "metadata": {},
   "source": [
    "# The TV Script is Nonsensical\n",
    "It's ok if the TV script doesn't make any sense.  We trained on less than a megabyte of text.  In order to get good results, you'll have to use a smaller vocabulary or get more data.  Luckly there's more data!  As we mentioned in the begging of this project, this is a subset of [another dataset](https://www.kaggle.com/wcukierski/the-simpsons-by-the-data).  We didn't have you train on all the data, because that would take too long.  However, you are free to train your neural network on all the data.  After you complete the project, of course.\n",
    "# Submitting This Project\n",
    "When submitting this project, make sure to run all the cells before saving the notebook. Save the notebook file as \"dlnd_tv_script_generation.ipynb\" and save it as a HTML file under \"File\" -> \"Download as\". Include the \"helper.py\" and \"problem_unittests.py\" files in your submission."
   ]
  }
 ],
 "metadata": {
  "anaconda-cloud": {},
  "kernelspec": {
   "display_name": "Python 3",
   "language": "python",
   "name": "python3"
  },
  "language_info": {
   "codemirror_mode": {
    "name": "ipython",
    "version": 3
   },
   "file_extension": ".py",
   "mimetype": "text/x-python",
   "name": "python",
   "nbconvert_exporter": "python",
   "pygments_lexer": "ipython3",
   "version": "3.5.3"
  }
 },
 "nbformat": 4,
 "nbformat_minor": 1
}
